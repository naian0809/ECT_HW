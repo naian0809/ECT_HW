{
 "cells": [
  {
   "cell_type": "code",
   "execution_count": 216,
   "metadata": {
    "id": "g9MCy6I--Vc7"
   },
   "outputs": [],
   "source": [
    "import pandas as pd\n",
    "import numpy as np\n",
    "from sklearn.preprocessing import OneHotEncoder, StandardScaler, LabelEncoder\n",
    "from sklearn.model_selection import train_test_split\n",
    "from sklearn.linear_model import LinearRegression\n",
    "from sklearn.linear_model import LogisticRegression\n",
    "from sklearn.svm import SVR\n",
    "from sklearn.tree import DecisionTreeRegressor,DecisionTreeClassifier\n",
    "from sklearn.metrics import r2_score, mean_squared_error, mean_absolute_error,  confusion_matrix"
   ]
  },
  {
   "cell_type": "markdown",
   "metadata": {
    "id": "XMVuQkPd-Vc-"
   },
   "source": [
    "# 第一部分"
   ]
  },
  {
   "cell_type": "markdown",
   "metadata": {
    "id": "9lRmeaBc-VdA"
   },
   "source": [
    "第一題"
   ]
  },
  {
   "cell_type": "code",
   "execution_count": 217,
   "metadata": {
    "id": "RaFzulH8-VdA"
   },
   "outputs": [],
   "source": [
    "df = pd.read_csv(\"insurance.csv\")\n",
    "df\n",
    "df=df.astype(str)"
   ]
  },
  {
   "cell_type": "markdown",
   "metadata": {
    "id": "iuDa_P8d-VdC"
   },
   "source": [
    "第二題"
   ]
  },
  {
   "cell_type": "code",
   "execution_count": 218,
   "metadata": {
    "id": "wR-yEGSo-VdC"
   },
   "outputs": [],
   "source": [
    "\n",
    "# 使用 OneHotEncoder 編碼 sex, smoker, region\n",
    "onehot_encoder = OneHotEncoder()\n",
    "encoded = onehot_encoder.fit_transform(df[['sex', 'smoker', 'region']]).toarray()\n",
    "df_encoded = pd.concat([df.drop(['sex', 'smoker', 'region'], axis=1), pd.DataFrame(encoded)], axis=1)\n",
    "\n",
    "# 使用 StandardScaler 編碼 age, bmi, charges\n",
    "standard_scaler = StandardScaler()\n",
    "df_encoded['age'] = standard_scaler.fit_transform(df_encoded[['age']])\n",
    "df_encoded['bmi'] = standard_scaler.fit_transform(df_encoded[['bmi']])\n",
    "df_encoded['charges'] = standard_scaler.fit_transform(df_encoded[['charges']])\n",
    "\n",
    "# 使用 LabelEncoder 編碼 children\n",
    "le = LabelEncoder()\n",
    "df_encoded['children'] = le.fit_transform(df_encoded['children'])"
   ]
  },
  {
   "cell_type": "markdown",
   "metadata": {
    "id": "lgqFRrxe-VdD"
   },
   "source": [
    "第三題"
   ]
  },
  {
   "cell_type": "code",
   "execution_count": 219,
   "metadata": {
    "id": "qTYzYoq5-VdD"
   },
   "outputs": [],
   "source": [
    "# 資料集劃分為訓練集與測試集\n",
    "X = df_encoded.drop(['charges'], axis=1)\n",
    "y = df_encoded['charges']\n",
    "X.columns = X.columns.astype(str)\n",
    "X_train, X_test, y_train, y_test = train_test_split(X, y, test_size=0.3, random_state=42)"
   ]
  },
  {
   "cell_type": "markdown",
   "metadata": {
    "id": "z7QlrORv-VdD"
   },
   "source": [
    "第四題"
   ]
  },
  {
   "cell_type": "code",
   "execution_count": 220,
   "metadata": {
    "colab": {
     "base_uri": "https://localhost:8080/",
     "height": 74
    },
    "id": "NpT-Nsh1-VdE",
    "outputId": "ac9cb867-3d9b-496f-d559-4d48f8f45008"
   },
   "outputs": [
    {
     "data": {
      "text/plain": [
       "DecisionTreeRegressor()"
      ]
     },
     "execution_count": 220,
     "metadata": {},
     "output_type": "execute_result"
    }
   ],
   "source": [
    "# 建立並訓練 Linear Regression 模型\n",
    "lr = LinearRegression()\n",
    "lr.fit(X_train, y_train)\n",
    "\n",
    "# 建立並訓練 SVM (SVR) 模型\n",
    "svm = SVR()\n",
    "svm.fit(X_train, y_train)\n",
    "\n",
    "# 建立並訓練 Decision Tree 模型\n",
    "dt = DecisionTreeRegressor()\n",
    "dt.fit(X_train, y_train)"
   ]
  },
  {
   "cell_type": "markdown",
   "metadata": {
    "id": "362RTmn7-VdE"
   },
   "source": [
    "第五題"
   ]
  },
  {
   "cell_type": "code",
   "execution_count": 221,
   "metadata": {
    "colab": {
     "base_uri": "https://localhost:8080/"
    },
    "id": "m7l1Ra0X-VdF",
    "outputId": "ba306685-ce5f-41ba-b24e-e939eec312a8"
   },
   "outputs": [
    {
     "name": "stdout",
     "output_type": "stream",
     "text": [
      "Training set score: 0.742\n",
      "Test set score: 0.770\n"
     ]
    }
   ],
   "source": [
    "train_score = lr.score(X_train, y_train)\n",
    "test_score = lr.score(X_test, y_test)\n",
    "\n",
    "print(f\"Training set score: {train_score:.3f}\")\n",
    "print(f\"Test set score: {test_score:.3f}\")"
   ]
  },
  {
   "cell_type": "code",
   "execution_count": 222,
   "metadata": {
    "colab": {
     "base_uri": "https://localhost:8080/"
    },
    "id": "7imTCGtF-VdF",
    "outputId": "e56e570b-1b22-4289-df5e-8d5d6fac3af7"
   },
   "outputs": [
    {
     "name": "stdout",
     "output_type": "stream",
     "text": [
      "Training set score: 0.851\n",
      "Test set score: 0.858\n"
     ]
    }
   ],
   "source": [
    "train_score = svm.score(X_train, y_train)\n",
    "test_score = svm.score(X_test, y_test)\n",
    "\n",
    "print(f\"Training set score: {train_score:.3f}\")\n",
    "print(f\"Test set score: {test_score:.3f}\")"
   ]
  },
  {
   "cell_type": "code",
   "execution_count": 223,
   "metadata": {
    "colab": {
     "base_uri": "https://localhost:8080/"
    },
    "id": "KFDjZoCL-VdF",
    "outputId": "981c172d-3b13-474d-bcc2-03c8ebc34f75"
   },
   "outputs": [
    {
     "name": "stdout",
     "output_type": "stream",
     "text": [
      "Training set score: 1.000\n",
      "Test set score: 0.731\n"
     ]
    }
   ],
   "source": [
    "train_score = dt.score(X_train, y_train)\n",
    "test_score = dt.score(X_test, y_test)\n",
    "\n",
    "print(f\"Training set score: {train_score:.3f}\")\n",
    "print(f\"Test set score: {test_score:.3f}\")"
   ]
  },
  {
   "cell_type": "code",
   "execution_count": 224,
   "metadata": {
    "colab": {
     "base_uri": "https://localhost:8080/"
    },
    "id": "-MSJVu2W-VdE",
    "outputId": "509b8e1a-4c59-4290-ee15-88eb991012f6"
   },
   "outputs": [
    {
     "name": "stdout",
     "output_type": "stream",
     "text": [
      "Linear Regression: R2=0.7696, RMSE=0.48, MAE=0.34\n",
      "SVM: R2=0.8583, RMSE=0.38, MAE=0.19\n",
      "Decision Tree: R2=0.7315, RMSE=0.52, MAE=0.24\n"
     ]
    }
   ],
   "source": [
    "# 使用訓練好的模型對測試集進行預測，並計算 R2、RMSE 和 MAE 指標\n",
    "models = [lr, svm, dt]\n",
    "model_names = ['Linear Regression', 'SVM', 'Decision Tree']\n",
    "for i, model in enumerate(models):\n",
    "    y_pred = model.predict(X_test)\n",
    "    r2 = r2_score(y_test, y_pred)\n",
    "    rmse = mean_squared_error(y_test, y_pred, squared=False)\n",
    "    mae = mean_absolute_error(y_test, y_pred)\n",
    "    print(f'{model_names[i]}: R2={r2:.4f}, RMSE={rmse:.2f}, MAE={mae:.2f}')"
   ]
  },
  {
   "cell_type": "markdown",
   "metadata": {
    "id": "K26IBllF-VdG"
   },
   "source": [
    "# 第二部分"
   ]
  },
  {
   "cell_type": "markdown",
   "metadata": {
    "id": "8yIvQTqF-VdG"
   },
   "source": [
    "第一題"
   ]
  },
  {
   "cell_type": "code",
   "execution_count": 225,
   "metadata": {
    "colab": {
     "base_uri": "https://localhost:8080/",
     "height": 539
    },
    "id": "Lk7vHnnC-VdG",
    "outputId": "d613d44c-f9b8-42ab-f61f-f9b0cdc474d1"
   },
   "outputs": [
    {
     "data": {
      "text/html": [
       "<div>\n",
       "<style scoped>\n",
       "    .dataframe tbody tr th:only-of-type {\n",
       "        vertical-align: middle;\n",
       "    }\n",
       "\n",
       "    .dataframe tbody tr th {\n",
       "        vertical-align: top;\n",
       "    }\n",
       "\n",
       "    .dataframe thead th {\n",
       "        text-align: right;\n",
       "    }\n",
       "</style>\n",
       "<table border=\"1\" class=\"dataframe\">\n",
       "  <thead>\n",
       "    <tr style=\"text-align: right;\">\n",
       "      <th></th>\n",
       "      <th>CustomerID</th>\n",
       "      <th>Churn</th>\n",
       "      <th>Tenure</th>\n",
       "      <th>PreferredLoginDevice</th>\n",
       "      <th>CityTier</th>\n",
       "      <th>WarehouseToHome</th>\n",
       "      <th>PreferredPaymentMode</th>\n",
       "      <th>Gender</th>\n",
       "      <th>HourSpendOnApp</th>\n",
       "      <th>NumberOfDeviceRegistered</th>\n",
       "      <th>PreferedOrderCat</th>\n",
       "      <th>SatisfactionScore</th>\n",
       "      <th>MaritalStatus</th>\n",
       "      <th>NumberOfAddress</th>\n",
       "      <th>Complain</th>\n",
       "      <th>OrderAmountHikeFromlastYear</th>\n",
       "      <th>CouponUsed</th>\n",
       "      <th>OrderCount</th>\n",
       "      <th>DaySinceLastOrder</th>\n",
       "      <th>CashbackAmount</th>\n",
       "    </tr>\n",
       "  </thead>\n",
       "  <tbody>\n",
       "    <tr>\n",
       "      <th>0</th>\n",
       "      <td>54023</td>\n",
       "      <td>1</td>\n",
       "      <td>1.0</td>\n",
       "      <td>Computer</td>\n",
       "      <td>1</td>\n",
       "      <td>31.0</td>\n",
       "      <td>Debit Card</td>\n",
       "      <td>Male</td>\n",
       "      <td>4.0</td>\n",
       "      <td>5</td>\n",
       "      <td>Mobile Phone</td>\n",
       "      <td>1</td>\n",
       "      <td>Single</td>\n",
       "      <td>3</td>\n",
       "      <td>1</td>\n",
       "      <td>25.0</td>\n",
       "      <td>2.0</td>\n",
       "      <td>2.0</td>\n",
       "      <td>1.0</td>\n",
       "      <td>149</td>\n",
       "    </tr>\n",
       "    <tr>\n",
       "      <th>1</th>\n",
       "      <td>50266</td>\n",
       "      <td>0</td>\n",
       "      <td>16.0</td>\n",
       "      <td>Mobile Phone</td>\n",
       "      <td>1</td>\n",
       "      <td>18.0</td>\n",
       "      <td>Debit Card</td>\n",
       "      <td>Male</td>\n",
       "      <td>2.0</td>\n",
       "      <td>4</td>\n",
       "      <td>Grocery</td>\n",
       "      <td>4</td>\n",
       "      <td>Married</td>\n",
       "      <td>2</td>\n",
       "      <td>0</td>\n",
       "      <td>11.0</td>\n",
       "      <td>0.0</td>\n",
       "      <td>NaN</td>\n",
       "      <td>9.0</td>\n",
       "      <td>243</td>\n",
       "    </tr>\n",
       "    <tr>\n",
       "      <th>2</th>\n",
       "      <td>54985</td>\n",
       "      <td>0</td>\n",
       "      <td>16.0</td>\n",
       "      <td>Mobile Phone</td>\n",
       "      <td>1</td>\n",
       "      <td>36.0</td>\n",
       "      <td>Credit Card</td>\n",
       "      <td>Male</td>\n",
       "      <td>3.0</td>\n",
       "      <td>6</td>\n",
       "      <td>Laptop &amp; Accessory</td>\n",
       "      <td>1</td>\n",
       "      <td>Single</td>\n",
       "      <td>6</td>\n",
       "      <td>0</td>\n",
       "      <td>20.0</td>\n",
       "      <td>2.0</td>\n",
       "      <td>2.0</td>\n",
       "      <td>1.0</td>\n",
       "      <td>168</td>\n",
       "    </tr>\n",
       "    <tr>\n",
       "      <th>3</th>\n",
       "      <td>52029</td>\n",
       "      <td>1</td>\n",
       "      <td>0.0</td>\n",
       "      <td>Phone</td>\n",
       "      <td>3</td>\n",
       "      <td>NaN</td>\n",
       "      <td>E wallet</td>\n",
       "      <td>Male</td>\n",
       "      <td>2.0</td>\n",
       "      <td>4</td>\n",
       "      <td>Mobile</td>\n",
       "      <td>4</td>\n",
       "      <td>Married</td>\n",
       "      <td>2</td>\n",
       "      <td>1</td>\n",
       "      <td>18.0</td>\n",
       "      <td>0.0</td>\n",
       "      <td>1.0</td>\n",
       "      <td>0.0</td>\n",
       "      <td>124</td>\n",
       "    </tr>\n",
       "    <tr>\n",
       "      <th>4</th>\n",
       "      <td>50084</td>\n",
       "      <td>0</td>\n",
       "      <td>13.0</td>\n",
       "      <td>Computer</td>\n",
       "      <td>1</td>\n",
       "      <td>15.0</td>\n",
       "      <td>Debit Card</td>\n",
       "      <td>Male</td>\n",
       "      <td>3.0</td>\n",
       "      <td>4</td>\n",
       "      <td>Laptop &amp; Accessory</td>\n",
       "      <td>2</td>\n",
       "      <td>Divorced</td>\n",
       "      <td>10</td>\n",
       "      <td>0</td>\n",
       "      <td>14.0</td>\n",
       "      <td>1.0</td>\n",
       "      <td>1.0</td>\n",
       "      <td>2.0</td>\n",
       "      <td>149</td>\n",
       "    </tr>\n",
       "    <tr>\n",
       "      <th>...</th>\n",
       "      <td>...</td>\n",
       "      <td>...</td>\n",
       "      <td>...</td>\n",
       "      <td>...</td>\n",
       "      <td>...</td>\n",
       "      <td>...</td>\n",
       "      <td>...</td>\n",
       "      <td>...</td>\n",
       "      <td>...</td>\n",
       "      <td>...</td>\n",
       "      <td>...</td>\n",
       "      <td>...</td>\n",
       "      <td>...</td>\n",
       "      <td>...</td>\n",
       "      <td>...</td>\n",
       "      <td>...</td>\n",
       "      <td>...</td>\n",
       "      <td>...</td>\n",
       "      <td>...</td>\n",
       "      <td>...</td>\n",
       "    </tr>\n",
       "    <tr>\n",
       "      <th>3078</th>\n",
       "      <td>51224</td>\n",
       "      <td>0</td>\n",
       "      <td>13.0</td>\n",
       "      <td>Mobile Phone</td>\n",
       "      <td>1</td>\n",
       "      <td>6.0</td>\n",
       "      <td>Debit Card</td>\n",
       "      <td>Male</td>\n",
       "      <td>3.0</td>\n",
       "      <td>3</td>\n",
       "      <td>Grocery</td>\n",
       "      <td>5</td>\n",
       "      <td>Married</td>\n",
       "      <td>3</td>\n",
       "      <td>0</td>\n",
       "      <td>11.0</td>\n",
       "      <td>NaN</td>\n",
       "      <td>11.0</td>\n",
       "      <td>16.0</td>\n",
       "      <td>268</td>\n",
       "    </tr>\n",
       "    <tr>\n",
       "      <th>3079</th>\n",
       "      <td>51396</td>\n",
       "      <td>1</td>\n",
       "      <td>11.0</td>\n",
       "      <td>Mobile Phone</td>\n",
       "      <td>1</td>\n",
       "      <td>6.0</td>\n",
       "      <td>Debit Card</td>\n",
       "      <td>Male</td>\n",
       "      <td>3.0</td>\n",
       "      <td>4</td>\n",
       "      <td>Fashion</td>\n",
       "      <td>3</td>\n",
       "      <td>Single</td>\n",
       "      <td>10</td>\n",
       "      <td>1</td>\n",
       "      <td>13.0</td>\n",
       "      <td>0.0</td>\n",
       "      <td>1.0</td>\n",
       "      <td>0.0</td>\n",
       "      <td>154</td>\n",
       "    </tr>\n",
       "    <tr>\n",
       "      <th>3080</th>\n",
       "      <td>52017</td>\n",
       "      <td>0</td>\n",
       "      <td>NaN</td>\n",
       "      <td>Mobile Phone</td>\n",
       "      <td>1</td>\n",
       "      <td>16.0</td>\n",
       "      <td>Debit Card</td>\n",
       "      <td>Male</td>\n",
       "      <td>2.0</td>\n",
       "      <td>3</td>\n",
       "      <td>Mobile</td>\n",
       "      <td>4</td>\n",
       "      <td>Married</td>\n",
       "      <td>2</td>\n",
       "      <td>0</td>\n",
       "      <td>14.0</td>\n",
       "      <td>1.0</td>\n",
       "      <td>1.0</td>\n",
       "      <td>0.0</td>\n",
       "      <td>120</td>\n",
       "    </tr>\n",
       "    <tr>\n",
       "      <th>3081</th>\n",
       "      <td>50355</td>\n",
       "      <td>1</td>\n",
       "      <td>0.0</td>\n",
       "      <td>Computer</td>\n",
       "      <td>1</td>\n",
       "      <td>13.0</td>\n",
       "      <td>Debit Card</td>\n",
       "      <td>Female</td>\n",
       "      <td>NaN</td>\n",
       "      <td>3</td>\n",
       "      <td>Mobile</td>\n",
       "      <td>3</td>\n",
       "      <td>Divorced</td>\n",
       "      <td>2</td>\n",
       "      <td>1</td>\n",
       "      <td>16.0</td>\n",
       "      <td>0.0</td>\n",
       "      <td>1.0</td>\n",
       "      <td>2.0</td>\n",
       "      <td>129</td>\n",
       "    </tr>\n",
       "    <tr>\n",
       "      <th>3082</th>\n",
       "      <td>53803</td>\n",
       "      <td>1</td>\n",
       "      <td>2.0</td>\n",
       "      <td>Mobile Phone</td>\n",
       "      <td>1</td>\n",
       "      <td>9.0</td>\n",
       "      <td>Credit Card</td>\n",
       "      <td>Male</td>\n",
       "      <td>3.0</td>\n",
       "      <td>4</td>\n",
       "      <td>Laptop &amp; Accessory</td>\n",
       "      <td>4</td>\n",
       "      <td>Married</td>\n",
       "      <td>6</td>\n",
       "      <td>0</td>\n",
       "      <td>12.0</td>\n",
       "      <td>1.0</td>\n",
       "      <td>2.0</td>\n",
       "      <td>5.0</td>\n",
       "      <td>174</td>\n",
       "    </tr>\n",
       "  </tbody>\n",
       "</table>\n",
       "<p>3083 rows × 20 columns</p>\n",
       "</div>"
      ],
      "text/plain": [
       "      CustomerID  Churn  Tenure PreferredLoginDevice  CityTier  \\\n",
       "0          54023      1     1.0             Computer         1   \n",
       "1          50266      0    16.0         Mobile Phone         1   \n",
       "2          54985      0    16.0         Mobile Phone         1   \n",
       "3          52029      1     0.0                Phone         3   \n",
       "4          50084      0    13.0             Computer         1   \n",
       "...          ...    ...     ...                  ...       ...   \n",
       "3078       51224      0    13.0         Mobile Phone         1   \n",
       "3079       51396      1    11.0         Mobile Phone         1   \n",
       "3080       52017      0     NaN         Mobile Phone         1   \n",
       "3081       50355      1     0.0             Computer         1   \n",
       "3082       53803      1     2.0         Mobile Phone         1   \n",
       "\n",
       "      WarehouseToHome PreferredPaymentMode  Gender  HourSpendOnApp  \\\n",
       "0                31.0           Debit Card    Male             4.0   \n",
       "1                18.0           Debit Card    Male             2.0   \n",
       "2                36.0          Credit Card    Male             3.0   \n",
       "3                 NaN             E wallet    Male             2.0   \n",
       "4                15.0           Debit Card    Male             3.0   \n",
       "...               ...                  ...     ...             ...   \n",
       "3078              6.0           Debit Card    Male             3.0   \n",
       "3079              6.0           Debit Card    Male             3.0   \n",
       "3080             16.0           Debit Card    Male             2.0   \n",
       "3081             13.0           Debit Card  Female             NaN   \n",
       "3082              9.0          Credit Card    Male             3.0   \n",
       "\n",
       "      NumberOfDeviceRegistered    PreferedOrderCat  SatisfactionScore  \\\n",
       "0                            5        Mobile Phone                  1   \n",
       "1                            4             Grocery                  4   \n",
       "2                            6  Laptop & Accessory                  1   \n",
       "3                            4              Mobile                  4   \n",
       "4                            4  Laptop & Accessory                  2   \n",
       "...                        ...                 ...                ...   \n",
       "3078                         3             Grocery                  5   \n",
       "3079                         4             Fashion                  3   \n",
       "3080                         3              Mobile                  4   \n",
       "3081                         3              Mobile                  3   \n",
       "3082                         4  Laptop & Accessory                  4   \n",
       "\n",
       "     MaritalStatus  NumberOfAddress  Complain  OrderAmountHikeFromlastYear  \\\n",
       "0           Single                3         1                         25.0   \n",
       "1          Married                2         0                         11.0   \n",
       "2           Single                6         0                         20.0   \n",
       "3          Married                2         1                         18.0   \n",
       "4         Divorced               10         0                         14.0   \n",
       "...            ...              ...       ...                          ...   \n",
       "3078       Married                3         0                         11.0   \n",
       "3079        Single               10         1                         13.0   \n",
       "3080       Married                2         0                         14.0   \n",
       "3081      Divorced                2         1                         16.0   \n",
       "3082       Married                6         0                         12.0   \n",
       "\n",
       "      CouponUsed  OrderCount  DaySinceLastOrder  CashbackAmount  \n",
       "0            2.0         2.0                1.0             149  \n",
       "1            0.0         NaN                9.0             243  \n",
       "2            2.0         2.0                1.0             168  \n",
       "3            0.0         1.0                0.0             124  \n",
       "4            1.0         1.0                2.0             149  \n",
       "...          ...         ...                ...             ...  \n",
       "3078         NaN        11.0               16.0             268  \n",
       "3079         0.0         1.0                0.0             154  \n",
       "3080         1.0         1.0                0.0             120  \n",
       "3081         0.0         1.0                2.0             129  \n",
       "3082         1.0         2.0                5.0             174  \n",
       "\n",
       "[3083 rows x 20 columns]"
      ]
     },
     "execution_count": 225,
     "metadata": {},
     "output_type": "execute_result"
    }
   ],
   "source": [
    "df2 = pd.read_csv(\"customer_churn.csv\")\n",
    "df2"
   ]
  },
  {
   "cell_type": "markdown",
   "metadata": {
    "id": "wIWLLtB5-VdG"
   },
   "source": [
    "第二題"
   ]
  },
  {
   "cell_type": "code",
   "execution_count": 226,
   "metadata": {
    "colab": {
     "base_uri": "https://localhost:8080/"
    },
    "id": "vzMFtjY6-VdH",
    "outputId": "3d3a78f1-e82d-4629-ed01-3a9cbbb51388"
   },
   "outputs": [
    {
     "name": "stdout",
     "output_type": "stream",
     "text": [
      "Number of data points: 3083\n",
      "Number of attributes: 20\n",
      "Number of missing values for each column:\n",
      "CustomerID                       0\n",
      "Churn                            0\n",
      "Tenure                         153\n",
      "PreferredLoginDevice             0\n",
      "CityTier                         0\n",
      "WarehouseToHome                154\n",
      "PreferredPaymentMode             0\n",
      "Gender                           0\n",
      "HourSpendOnApp                 150\n",
      "NumberOfDeviceRegistered         0\n",
      "PreferedOrderCat                 0\n",
      "SatisfactionScore                0\n",
      "MaritalStatus                    0\n",
      "NumberOfAddress                  0\n",
      "Complain                         0\n",
      "OrderAmountHikeFromlastYear    131\n",
      "CouponUsed                     126\n",
      "OrderCount                     128\n",
      "DaySinceLastOrder              166\n",
      "CashbackAmount                   0\n",
      "dtype: int64\n",
      "Number of data points for each target class:\n",
      "0    2132\n",
      "1     951\n",
      "Name: Churn, dtype: int64\n"
     ]
    }
   ],
   "source": [
    "print(f\"Number of data points: {len(df2)}\")\n",
    "\n",
    "# 列出屬性數量\n",
    "print(f\"Number of attributes: {len(df2.columns)}\")\n",
    "\n",
    "# 列出每個欄位的空值個數\n",
    "print(\"Number of missing values for each column:\")\n",
    "print(df2.isnull().sum())\n",
    "\n",
    "# 列出各類別(target)的資料筆數\n",
    "print(\"Number of data points for each target class:\")\n",
    "print(df2['Churn'].value_counts())"
   ]
  },
  {
   "cell_type": "markdown",
   "metadata": {
    "id": "d3tatR1p-VdH"
   },
   "source": [
    "第三題"
   ]
  },
  {
   "cell_type": "code",
   "execution_count": 227,
   "metadata": {
    "colab": {
     "base_uri": "https://localhost:8080/"
    },
    "id": "b6Nnx1HE-VdH",
    "outputId": "ebdc1945-9013-4680-c399-4e8acd8c15d9"
   },
   "outputs": [
    {
     "name": "stdout",
     "output_type": "stream",
     "text": [
      "剩餘資料筆數: 3078\n"
     ]
    }
   ],
   "source": [
    "df2.drop_duplicates(inplace=True)\n",
    "\n",
    "# 列出剩餘的資料筆數\n",
    "print('剩餘資料筆數:', len(df2))"
   ]
  },
  {
   "cell_type": "markdown",
   "metadata": {
    "id": "_pqLHyeq-VdH"
   },
   "source": [
    "第四題"
   ]
  },
  {
   "cell_type": "code",
   "execution_count": 228,
   "metadata": {
    "colab": {
     "base_uri": "https://localhost:8080/"
    },
    "id": "PF4T3QlM-VdH",
    "outputId": "b7a9bba0-9b7d-4aa6-9f75-3fba69520746"
   },
   "outputs": [],
   "source": [
    "# 填補空值 (使用平均數)\n",
    "df2.fillna(df2.mean(), inplace=True)"
   ]
  },
  {
   "cell_type": "code",
   "execution_count": 229,
   "metadata": {
    "colab": {
     "base_uri": "https://localhost:8080/"
    },
    "id": "Vu5Lf3Lb-VdI",
    "outputId": "e0f7bbe1-856f-47ba-c393-09248df7f98d"
   },
   "outputs": [
    {
     "name": "stdout",
     "output_type": "stream",
     "text": [
      "CustomerID                     0\n",
      "Churn                          0\n",
      "Tenure                         0\n",
      "PreferredLoginDevice           0\n",
      "CityTier                       0\n",
      "WarehouseToHome                0\n",
      "PreferredPaymentMode           0\n",
      "Gender                         0\n",
      "HourSpendOnApp                 0\n",
      "NumberOfDeviceRegistered       0\n",
      "PreferedOrderCat               0\n",
      "SatisfactionScore              0\n",
      "MaritalStatus                  0\n",
      "NumberOfAddress                0\n",
      "Complain                       0\n",
      "OrderAmountHikeFromlastYear    0\n",
      "CouponUsed                     0\n",
      "OrderCount                     0\n",
      "DaySinceLastOrder              0\n",
      "CashbackAmount                 0\n",
      "dtype: int64\n"
     ]
    }
   ],
   "source": [
    "print(df2.isnull().sum())"
   ]
  },
  {
   "cell_type": "code",
   "execution_count": 230,
   "metadata": {
    "id": "J6YfossN-VdI"
   },
   "outputs": [],
   "source": [
    "le = LabelEncoder()\n",
    "\n",
    "# 將指定欄位進行 label encoding\n",
    "df2['PreferredLoginDevice'] = le.fit_transform(df2['PreferredLoginDevice'])\n",
    "df2['PreferredPaymentMode'] = le.fit_transform(df2['PreferredPaymentMode'])\n",
    "df2['Gender'] = le.fit_transform(df2['Gender'])\n",
    "df2['PreferedOrderCat'] = le.fit_transform(df2['PreferedOrderCat'])\n",
    "df2['MaritalStatus'] = le.fit_transform(df2['MaritalStatus'])\n",
    "\n",
    "le = LabelEncoder()\n",
    "df2['Churn'] = le.fit_transform(df2['Churn'])\n",
    "# 將指定欄位進行 one-hot encoding\n",
    "df2 = pd.get_dummies(df2, columns=['CityTier'])"
   ]
  },
  {
   "cell_type": "code",
   "execution_count": 231,
   "metadata": {},
   "outputs": [],
   "source": [
    "#df2['CityTier'].value_counts()"
   ]
  },
  {
   "cell_type": "code",
   "execution_count": 232,
   "metadata": {
    "id": "gtry2BNcJO5n"
   },
   "outputs": [],
   "source": [
    "df2['Churn']=df2['Churn'].astype(int)"
   ]
  },
  {
   "cell_type": "markdown",
   "metadata": {},
   "source": [
    "第五題"
   ]
  },
  {
   "cell_type": "code",
   "execution_count": 233,
   "metadata": {
    "colab": {
     "base_uri": "https://localhost:8080/"
    },
    "id": "ghI3klVH-VdI",
    "outputId": "27647ab7-064d-420f-a7d1-2f0425ba1df3"
   },
   "outputs": [
    {
     "name": "stdout",
     "output_type": "stream",
     "text": [
      "訓練集資料筆數: 2462\n",
      "測試集資料筆數: 616\n"
     ]
    }
   ],
   "source": [
    "\n",
    "\n",
    "X = df2.drop(['CustomerID','Churn'], axis=1) # 設定特徵欄位\n",
    "y = df2['Churn'] # 設定目標欄位\n",
    "X.columns = X.columns.astype(str)\n",
    "\n",
    "# 切割資料集\n",
    "X_train, X_test, y_train, y_test = train_test_split(X, y, test_size=0.2, random_state=0)\n",
    "\n",
    "print('訓練集資料筆數:', len(X_train))\n",
    "print('測試集資料筆數:', len(X_test))\n"
   ]
  },
  {
   "cell_type": "code",
   "execution_count": 234,
   "metadata": {
    "colab": {
     "base_uri": "https://localhost:8080/",
     "height": 74
    },
    "id": "vNT3JxLo-VdI",
    "outputId": "fb66b337-9103-4142-e562-28a6a0fcc61b"
   },
   "outputs": [
    {
     "name": "stderr",
     "output_type": "stream",
     "text": [
      "C:\\Users\\user\\anaconda3\\lib\\site-packages\\sklearn\\linear_model\\_logistic.py:762: ConvergenceWarning: lbfgs failed to converge (status=1):\n",
      "STOP: TOTAL NO. of ITERATIONS REACHED LIMIT.\n",
      "\n",
      "Increase the number of iterations (max_iter) or scale the data as shown in:\n",
      "    https://scikit-learn.org/stable/modules/preprocessing.html\n",
      "Please also refer to the documentation for alternative solver options:\n",
      "    https://scikit-learn.org/stable/modules/linear_model.html#logistic-regression\n",
      "  n_iter_i = _check_optimize_result(\n"
     ]
    },
    {
     "data": {
      "text/plain": [
       "DecisionTreeRegressor()"
      ]
     },
     "execution_count": 234,
     "metadata": {},
     "output_type": "execute_result"
    }
   ],
   "source": [
    "lr = LogisticRegression()\n",
    "lr.fit(X_train, y_train)\n",
    "\n",
    "# 建立並訓練 SVM (SVR) 模型\n",
    "svm = SVR()\n",
    "svm.fit(X_train, y_train)\n",
    "\n",
    "# 建立並訓練 Decision Tree 模型\n",
    "dt = DecisionTreeRegressor()\n",
    "\n",
    "dt.fit(X_train, y_train)"
   ]
  },
  {
   "cell_type": "code",
   "execution_count": 235,
   "metadata": {
    "colab": {
     "base_uri": "https://localhost:8080/"
    },
    "id": "W9qqXo7kCZnJ",
    "outputId": "0284a71c-e2ea-4162-c7d5-362dd15f4d41"
   },
   "outputs": [
    {
     "name": "stdout",
     "output_type": "stream",
     "text": [
      "Logistic Regression: R2=0.2496, RMSE=0.40, MAE=0.16\n",
      "SVM: R2=0.0978, RMSE=0.44, MAE=0.32\n",
      "Decision Tree: R2=0.7224, RMSE=0.25, MAE=0.06\n"
     ]
    }
   ],
   "source": [
    "models = [lr, svm, dt]\n",
    "model_names = ['Logistic Regression', 'SVM', 'Decision Tree']\n",
    "for i, model in enumerate(models):\n",
    "    y_pred = model.predict(X_test)\n",
    "    r2 = r2_score(y_test, y_pred)\n",
    "    rmse = mean_squared_error(y_test, y_pred, squared=False)\n",
    "    mae = mean_absolute_error(y_test, y_pred)\n",
    "    print(f'{model_names[i]}: R2={r2:.4f}, RMSE={rmse:.2f}, MAE={mae:.2f}')"
   ]
  },
  {
   "cell_type": "markdown",
   "metadata": {},
   "source": [
    "6、7一起寫"
   ]
  },
  {
   "cell_type": "code",
   "execution_count": 236,
   "metadata": {
    "colab": {
     "base_uri": "https://localhost:8080/"
    },
    "id": "FIYnvyTACkcF",
    "outputId": "de3541ab-c482-4cfe-fae8-270dc1994536"
   },
   "outputs": [
    {
     "name": "stdout",
     "output_type": "stream",
     "text": [
      "Training set score: 0.824\n",
      "Test set score: 0.838\n"
     ]
    }
   ],
   "source": [
    "train_score = lr.score(X_train, y_train)\n",
    "test_score = lr.score(X_test, y_test)\n",
    "\n",
    "print(f\"Training set score: {train_score:.3f}\")\n",
    "print(f\"Test set score: {test_score:.3f}\")"
   ]
  },
  {
   "cell_type": "code",
   "execution_count": 237,
   "metadata": {},
   "outputs": [
    {
     "name": "stdout",
     "output_type": "stream",
     "text": [
      "First hyperparameter setting:\n",
      "Training set score: 0.823\n",
      "Test set score: 0.843\n",
      "\n",
      "Second hyperparameter setting:\n",
      "Training set score: 0.823\n",
      "Test set score: 0.844\n"
     ]
    },
    {
     "name": "stderr",
     "output_type": "stream",
     "text": [
      "C:\\Users\\user\\anaconda3\\lib\\site-packages\\sklearn\\linear_model\\_logistic.py:762: ConvergenceWarning: lbfgs failed to converge (status=1):\n",
      "STOP: TOTAL NO. of ITERATIONS REACHED LIMIT.\n",
      "\n",
      "Increase the number of iterations (max_iter) or scale the data as shown in:\n",
      "    https://scikit-learn.org/stable/modules/preprocessing.html\n",
      "Please also refer to the documentation for alternative solver options:\n",
      "    https://scikit-learn.org/stable/modules/linear_model.html#logistic-regression\n",
      "  n_iter_i = _check_optimize_result(\n"
     ]
    }
   ],
   "source": [
    "# 第一組超參數設定\n",
    "lr1 = LogisticRegression(solver='lbfgs', max_iter=1000)\n",
    "lr1.fit(X_train, y_train)\n",
    "\n",
    "train_score1 = lr1.score(X_train, y_train)\n",
    "test_score1 = lr1.score(X_test, y_test)\n",
    "\n",
    "print(\"First hyperparameter setting:\")\n",
    "print(f\"Training set score: {train_score1:.3f}\")\n",
    "print(f\"Test set score: {test_score1:.3f}\\n\")\n",
    "\n",
    "# 第二組超參數設定\n",
    "lr2 = LogisticRegression(solver='liblinear', max_iter=500)\n",
    "lr2.fit(X_train, y_train)\n",
    "\n",
    "train_score2 = lr2.score(X_train, y_train)\n",
    "test_score2 = lr2.score(X_test, y_test)\n",
    "\n",
    "print(\"Second hyperparameter setting:\")\n",
    "print(f\"Training set score: {train_score2:.3f}\")\n",
    "print(f\"Test set score: {test_score2:.3f}\")\n",
    "\n"
   ]
  },
  {
   "cell_type": "markdown",
   "metadata": {},
   "source": [
    "這裡設置了兩組不同的超參數：一組使用 l2 正則化，另一組不使用正則化。從結果可以看到， C=0.1 且使用 l2 正則化似乎是一個比較好的超參數設定。"
   ]
  },
  {
   "cell_type": "code",
   "execution_count": 238,
   "metadata": {
    "colab": {
     "base_uri": "https://localhost:8080/"
    },
    "id": "XCnxz3MxCpIP",
    "outputId": "6a056159-5af8-41fa-bc15-634d60232213"
   },
   "outputs": [
    {
     "name": "stdout",
     "output_type": "stream",
     "text": [
      "Training set score: 0.113\n",
      "Test set score: 0.098\n"
     ]
    }
   ],
   "source": [
    "train_score = svm.score(X_train, y_train)\n",
    "test_score = svm.score(X_test, y_test)\n",
    "\n",
    "print(f\"Training set score: {train_score:.3f}\")\n",
    "print(f\"Test set score: {test_score:.3f}\")"
   ]
  },
  {
   "cell_type": "code",
   "execution_count": 239,
   "metadata": {},
   "outputs": [
    {
     "name": "stdout",
     "output_type": "stream",
     "text": [
      "First hyperparameter setting:\n",
      "Training set score: 0.113\n",
      "Test set score: 0.098\n",
      "\n",
      "Second hyperparameter setting:\n",
      "Training set score: 0.288\n",
      "Test set score: 0.297\n",
      "\n"
     ]
    }
   ],
   "source": [
    "# 設定第一組超參數\n",
    "svm_1 = SVR(kernel='rbf', C=1, gamma='scale')\n",
    "svm_1.fit(X_train, y_train)\n",
    "train_score_1 = svm_1.score(X_train, y_train)\n",
    "test_score_1 = svm_1.score(X_test, y_test)\n",
    "print(f\"First hyperparameter setting:\")\n",
    "print(f\"Training set score: {train_score_1:.3f}\")\n",
    "print(f\"Test set score: {test_score_1:.3f}\")\n",
    "print(\"\")\n",
    "\n",
    "# 設定第二組超參數\n",
    "svm_2 = SVR(kernel='linear', C=0.1, gamma='scale')\n",
    "svm_2.fit(X_train, y_train)\n",
    "train_score_2 = svm_2.score(X_train, y_train)\n",
    "test_score_2 = svm_2.score(X_test, y_test)\n",
    "print(f\"Second hyperparameter setting:\")\n",
    "print(f\"Training set score: {train_score_2:.3f}\")\n",
    "print(f\"Test set score: {test_score_2:.3f}\")\n",
    "print(\"\")\n"
   ]
  },
  {
   "cell_type": "markdown",
   "metadata": {},
   "source": [
    "第一組超參數使用 rbf 核函數，C 為 1，gamma 為 scale；第二組超參數使用 linear 核函數，C 為 0.1，gamma 為 scale。"
   ]
  },
  {
   "cell_type": "code",
   "execution_count": 240,
   "metadata": {
    "colab": {
     "base_uri": "https://localhost:8080/"
    },
    "id": "XrSp5MMKCpP2",
    "outputId": "d5d1aa8a-994a-4165-867d-af08f5ec59fc"
   },
   "outputs": [
    {
     "name": "stdout",
     "output_type": "stream",
     "text": [
      "Training set score: 1.000\n",
      "Test set score: 0.722\n"
     ]
    }
   ],
   "source": [
    "train_score = dt.score(X_train, y_train)\n",
    "test_score = dt.score(X_test, y_test)\n",
    "\n",
    "print(f\"Training set score: {train_score:.3f}\")\n",
    "print(f\"Test set score: {test_score:.3f}\")"
   ]
  },
  {
   "cell_type": "code",
   "execution_count": 241,
   "metadata": {},
   "outputs": [
    {
     "name": "stdout",
     "output_type": "stream",
     "text": [
      "First hyperparameter setting:\n",
      "Training set score: 0.409\n",
      "Test set score: 0.388\n",
      "\n",
      "Second hyperparameter setting:\n",
      "Training set score: 0.519\n",
      "Test set score: 0.453\n",
      "\n"
     ]
    }
   ],
   "source": [
    "# 設定第一組超參數\n",
    "dt_1 = DecisionTreeRegressor(max_depth=3, min_samples_split=2)\n",
    "dt_1.fit(X_train, y_train)\n",
    "train_score_1 = dt_1.score(X_train, y_train)\n",
    "test_score_1 = dt_1.score(X_test, y_test)\n",
    "print(f\"First hyperparameter setting:\")\n",
    "print(f\"Training set score: {train_score_1:.3f}\")\n",
    "print(f\"Test set score: {test_score_1:.3f}\")\n",
    "print(\"\")\n",
    "\n",
    "# 設定第二組超參數\n",
    "dt_2 = DecisionTreeRegressor(max_depth=5, min_samples_split=4)\n",
    "dt_2.fit(X_train, y_train)\n",
    "train_score_2 = dt_2.score(X_train, y_train)\n",
    "test_score_2 = dt_2.score(X_test, y_test)\n",
    "print(f\"Second hyperparameter setting:\")\n",
    "print(f\"Training set score: {train_score_2:.3f}\")\n",
    "print(f\"Test set score: {test_score_2:.3f}\")\n",
    "print(\"\")\n"
   ]
  },
  {
   "cell_type": "markdown",
   "metadata": {},
   "source": [
    "第一組超參數使用 max_depth 為 3，min_samples_split 為 2；第二組超參數使用 max_depth 為 5，min_samples_split 為 4。"
   ]
  },
  {
   "cell_type": "markdown",
   "metadata": {},
   "source": [
    "第八題 \n",
    "可以發現logistic regression 在訓練集跟測試集都表現不錯 SVM 表現的相當差 decision tree 則是訓練異常好 "
   ]
  },
  {
   "cell_type": "markdown",
   "metadata": {},
   "source": [
    "第九題"
   ]
  },
  {
   "cell_type": "code",
   "execution_count": 252,
   "metadata": {
    "colab": {
     "base_uri": "https://localhost:8080/",
     "height": 416
    },
    "id": "G2Yrw0R9FX25",
    "outputId": "7ea5a1bd-d4d3-434b-8dc9-86ca71d71655"
   },
   "outputs": [
    {
     "data": {
      "image/png": "[encoded data removed]",
      "text/plain": [
       "<Figure size 432x288 with 2 Axes>"
      ]
     },
     "metadata": {
      "needs_background": "light"
     },
     "output_type": "display_data"
    }
   ],
   "source": [
    "import seaborn as sns\n",
    "import matplotlib.pyplot as plt\n",
    "\n",
    "# SVM model confusion matrix\n",
    "svm_pred = svm.predict(X_test)\n",
    "svm_pred=svm_pred.astype('int')\n",
    "#y_test=y_test.astype('int')\n",
    "svm_cm = confusion_matrix(y_test, svm_pred)\n",
    "sns.heatmap(svm_cm, annot=True, cmap='Blues', fmt='.0f')\n",
    "plt.xlabel('Predicted Labels')\n",
    "plt.ylabel('True Labels')\n",
    "plt.title('SVM Confusion Matrix')\n",
    "plt.show()"
   ]
  },
  {
   "cell_type": "code",
   "execution_count": 251,
   "metadata": {},
   "outputs": [
    {
     "data": {
      "image/png": "[encoded data removed]",
      "text/plain": [
       "<Figure size 432x288 with 2 Axes>"
      ]
     },
     "metadata": {
      "needs_background": "light"
     },
     "output_type": "display_data"
    }
   ],
   "source": [
    "lr_pred = lr.predict(X_test)\n",
    "#lr_pred=lr_pred.astype('int')\n",
    "y_test=y_test.astype('int')\n",
    "lr_cm = confusion_matrix(y_test, lr_pred)\n",
    "sns.heatmap(lr_cm, annot=True, cmap='Blues', fmt='.0f')\n",
    "plt.xlabel('Predicted Labels')\n",
    "plt.ylabel('True Labels')\n",
    "plt.title('Logistic Regression Confusion Matrix')\n",
    "plt.show()"
   ]
  },
  {
   "cell_type": "code",
   "execution_count": 250,
   "metadata": {},
   "outputs": [
    {
     "data": {
      "image/png": "[encoded data removed]",
      "text/plain": [
       "<Figure size 432x288 with 2 Axes>"
      ]
     },
     "metadata": {
      "needs_background": "light"
     },
     "output_type": "display_data"
    }
   ],
   "source": [
    "dt_pred = dt.predict(X_test)\n",
    "#dt_pred=dt_pred.astype('int')\n",
    "y_test=y_test.astype('int')\n",
    "\n",
    "dt_cm = confusion_matrix(y_test, dt_pred)\n",
    "sns.heatmap(dt_cm, annot=True, cmap='Blues', fmt='.0f')\n",
    "plt.xlabel('Predicted Labels')\n",
    "plt.ylabel('True Labels')\n",
    "plt.title('Decision Tree Confusion Matrix')\n",
    "plt.show()"
   ]
  },
  {
   "cell_type": "markdown",
   "metadata": {},
   "source": [
    "可以發現svm模型在TP表現最好，FN其次。 lr跟dt都在辨識正樣本與負樣本的能力方面很不錯，dt尤為不錯"
   ]
  }
 ],
 "metadata": {
  "colab": {
   "provenance": []
  },
  "gpuClass": "standard",
  "kernelspec": {
   "display_name": "Python 3",
   "language": "python",
   "name": "python3"
  },
  "language_info": {
   "codemirror_mode": {
    "name": "ipython",
    "version": 3
   },
   "file_extension": ".py",
   "mimetype": "text/x-python",
   "name": "python",
   "nbconvert_exporter": "python",
   "pygments_lexer": "ipython3",
   "version": "3.8.3"
  }
 },
 "nbformat": 4,
 "nbformat_minor": 1
}
